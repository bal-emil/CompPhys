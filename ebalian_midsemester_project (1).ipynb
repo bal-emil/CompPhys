{
 "cells": [
  {
   "cell_type": "markdown",
   "metadata": {},
   "source": [
    "# Midsemester Project (SEE ANALYTICAL WORK attached)\n",
    "### Emil Balian (ebalian)"
   ]
  },
  {
   "cell_type": "code",
   "execution_count": 13,
   "metadata": {},
   "outputs": [],
   "source": [
    "# Import Libraries / Packages\n",
    "\n",
    "import pylab as pyl\n",
    "import scipy as sci\n",
    "import numpy as np\n",
    "from scipy.optimize import fsolve"
   ]
  },
  {
   "cell_type": "code",
   "execution_count": 14,
   "metadata": {},
   "outputs": [],
   "source": [
    "# Define Constants and variables\n",
    "\n",
    "G = 6.67430e-11\n",
    "M_sun = 1.989e30 # in kg\n",
    "M_earth = 5.972e24 # in kg\n",
    "M_tot = M_earth + M_sun # in kg\n",
    "\n",
    "l = 1 # in AU\n",
    "r_sun = M_earth / M_tot # in AU\n",
    "r_earth = M_sun / M_tot # in AU\n"
   ]
  },
  {
   "cell_type": "code",
   "execution_count": 15,
   "metadata": {},
   "outputs": [],
   "source": [
    "# Define all of our algorithms\n",
    "\n",
    "def newtonraphson(f, f1, x):\n",
    "    # Set limits\n",
    "    accuracy = 1E-9\n",
    "    Nmax = 1000\n",
    "    \n",
    "    # Iterate\n",
    "    i = 0\n",
    "    delta = 1\n",
    "    \n",
    "    while abs(delta) > accuracy and i < Nmax:\n",
    "        # Increment\n",
    "        i += 1\n",
    "        \n",
    "        # Guess\n",
    "        u = x\n",
    "        x = u - f(u)/f1(u)\n",
    "        delta = (x-u)/x\n",
    "        \n",
    "    return x, i, delta\n",
    "\n",
    "def secant(f, x):\n",
    "    # Set limits\n",
    "    accuracy = 1E-9\n",
    "    Nmax = 1000\n",
    "    # Iterate\n",
    "    i = 0\n",
    "    delta = 1\n",
    "    \n",
    "    while abs(delta) > accuracy and i < Nmax:\n",
    "        # Increment\n",
    "        i += 1\n",
    "        \n",
    "        # Finite-difference\n",
    "        if i == 1:\n",
    "            x1 = 0.95*x\n",
    "            x2 = 1.05*x\n",
    "            f1 = (f(x2) - f(x1))/(x2 - x1)\n",
    "        else:\n",
    "            f1 = (f(x) - f(u)) / (x-u)\n",
    "        \n",
    "        # Guess\n",
    "        u = x\n",
    "        x = u - f(u)/f1\n",
    "        delta = (x-u)/x\n",
    "        \n",
    "        \n",
    "    return x, i, delta\n",
    "\n",
    "# Bisectional method\n",
    "def bisection(f, x1, x2):\n",
    "    # Set limits\n",
    "    accuracy = 1E-9\n",
    "    Nmax     = 1000\n",
    "    \n",
    "    # Init and check\n",
    "    f1 = f(x1)\n",
    "    f2 = f(x2)\n",
    "    if f1*f2 > 0:\n",
    "        return\n",
    "    \n",
    "    # Iterate\n",
    "    i     = 0\n",
    "    delta = 1.0\n",
    "    \n",
    "    while abs(delta) > accuracy and i < Nmax:\n",
    "        # Increment\n",
    "        i += 1\n",
    "        \n",
    "        # Midpoint\n",
    "        xc    = (x1 + x2)/2\n",
    "        fc    = f(xc)\n",
    "        delta = (xc - x1)/xc\n",
    "        \n",
    "        # Check\n",
    "        if f1*fc > 0:\n",
    "            x1 = xc\n",
    "            f1 = fc\n",
    "        else:\n",
    "            x2 = xc\n",
    "            f2 = fc\n",
    "    \n",
    "    return xc, i, delta\n",
    "\n",
    "def relaxation(f, x):\n",
    "    \n",
    "    # Set limits\n",
    "    accuracy = 1E-9\n",
    "    Nmax = 1000\n",
    "    \n",
    "    # Iterate\n",
    "    i = 0\n",
    "    delta = 1.0\n",
    "    \n",
    "    while abs(delta) > accuracy and i < Nmax:\n",
    "        # Increment\n",
    "        i += 1\n",
    "        \n",
    "        # Guess\n",
    "        xprev = x\n",
    "        x = f(x)\n",
    "        delta = x/xprev - 1\n",
    "        \n",
    "    return x, i, delta\n",
    "\n",
    "# Method of false position\n",
    "def falseposition(f, x1, x2):\n",
    "    return (x1*f(x2) - x2*f(x1))/(f(x2)-f(x1)) "
   ]
  },
  {
   "cell_type": "markdown",
   "metadata": {},
   "source": [
    "## 3.2.1. L1, L2, and L3\n",
    "\n",
    "### Approximate analytical solution using Taylor expansions\n",
    "\n",
    "We can find the location of our first 3 Legrange points by solving the force balance equation and using taylor\n",
    "expansions\n",
    "\n",
    "\n",
    "First, for L1 and L2... We can obtain both in one calculation of L1 due to symmetry\n",
    "\n",
    "\\begin{align}\n",
    "f_{sun,L1} + f_{earth,L1} - a_{centripetal} = 0 \\\\\n",
    "f_{sun,L1} = \\frac{-GM_{\\odot}}{(1-u)^2} \\\\\n",
    "f_{earth,L1} = \\frac{GM_{\\oplus}}{u^2} \\\\\n",
    "a_{centripetal} = \\frac{-( 2 \\pi x / P_{\\odot \\oplus})}{x} = -G(M_{\\odot} + M_{\\oplus})x = -GM_{tot}(r_{\\oplus} - u)\n",
    "\\end{align}\n",
    "\n",
    "Now plugging in and dividing by $-GM_{tot}$ ...\n",
    "\n",
    "\\begin{align}\n",
    "(r_{\\odot} - u) - \\frac{r_{\\oplus}}{(1-u)^2} + \\frac{r_{\\odot}}{u^2} = 0\n",
    "\\end{align}\n"
   ]
  },
  {
   "cell_type": "code",
   "execution_count": 16,
   "metadata": {},
   "outputs": [
    {
     "name": "stdout",
     "output_type": "stream",
     "text": [
      "The following are solutions via Taylor expansions\n",
      "These answers will be checked later...\n",
      "L1 is  0.010002782349093813 AU from the earth (IE to the right of earth)\n",
      "L2 is  -0.010002782349093813 AU from the earth (IE to the left of earth)\n",
      "L3 is  -2.0000120100913645 AU from the earth (IE to the left of earth)\n"
     ]
    }
   ],
   "source": [
    "# 1. Find approximate analytical solutions using appropriate Taylor expansions. There are\n",
    "#    no closed-form exact solutions.\n",
    "\n",
    "# SEE ANALYTICAL WORK\n",
    "\n",
    "\n",
    "print(\"The following are solutions via Taylor expansions\")\n",
    "\n",
    "def L1_taylor(r_s):\n",
    "    return (r_s / 3)**(1/3)\n",
    "\n",
    "def L2_taylor(r_s):\n",
    "    return -1 * L1_taylor(r_s)\n",
    "\n",
    "def L3_taylor(r_s):\n",
    "    return 2/(2*r_s - 1)\n",
    "\n",
    "print(\"These answers will be checked later...\")\n",
    "print(\"L1 is \", L1_taylor(r_sun), \"AU from the earth (IE to the right of earth)\")\n",
    "print(\"L2 is \", L2_taylor(r_sun), \"AU from the earth (IE to the left of earth)\")\n",
    "print(\"L3 is \", L3_taylor(r_sun), \"AU from the earth (IE to the left of earth)\")\n"
   ]
  },
  {
   "cell_type": "markdown",
   "metadata": {},
   "source": [
    "### Numerical solutions with root-finding"
   ]
  },
  {
   "cell_type": "code",
   "execution_count": 17,
   "metadata": {},
   "outputs": [
    {
     "name": "stdout",
     "output_type": "stream",
     "text": [
      "The following are solutions via root-finding\n",
      "L1 is  0.009969326423799918 from the earth TOWARDS the sun (found with the secant method)\n",
      "L2 is  0.009969326425311011 from the earth AWAY from the sun (found with the bisectional method)\n",
      "L3 is  1.9999979007699336 from the earth TOWARDS the sun (found with falseposition)\n",
      "Now, checking results with the scipy library: \n",
      "L1 is  0.00996932642238492\n",
      "L2 is  0.00996932642238492\n",
      "L3 is  1.9999982485388148\n",
      "Now, visualizing...\n"
     ]
    },
    {
     "data": {
      "image/png": "[encoded data removed]",
      "text/plain": [
       "<Figure size 432x288 with 1 Axes>"
      ]
     },
     "metadata": {
      "needs_background": "light"
     },
     "output_type": "display_data"
    },
    {
     "data": {
      "image/png": "[encoded data removed]",
      "text/plain": [
       "<Figure size 432x288 with 1 Axes>"
      ]
     },
     "metadata": {
      "needs_background": "light"
     },
     "output_type": "display_data"
    },
    {
     "data": {
      "image/png": "[encoded data removed]",
      "text/plain": [
       "<Figure size 432x288 with 1 Axes>"
      ]
     },
     "metadata": {
      "needs_background": "light"
     },
     "output_type": "display_data"
    },
    {
     "name": "stdout",
     "output_type": "stream",
     "text": [
      "As we can see, our roots graphically work out and we can see a considerable force at those points\n"
     ]
    }
   ],
   "source": [
    "# 2. Numerically solve for the coordinates using root-finding methods for one variable. Use\n",
    "#    a different method, one of which must be the Newton-Raphson (or secant version), for\n",
    "#    each Lagrange point.\n",
    "\n",
    "# SEE ANALYTICAL WORK\n",
    "\n",
    "\n",
    "xmin = 0.001\n",
    "xmax = 2.0\n",
    "\n",
    "def L1_eq(u):\n",
    "    return (r_earth - u) - (r_earth / (1-u)**2) + r_sun / u**2\n",
    "\n",
    "def L2_eq(u):\n",
    "    return -1 * L1_eq(u)\n",
    "\n",
    "def L3_eq(u):\n",
    "    return -(u-r_earth) + (r_earth / (u-1)**2) + (r_sun / u**2)\n",
    "\n",
    "print(\"The following are solutions via root-finding\")\n",
    "\n",
    "\n",
    "print(\"L1 is \", secant(L1_eq, xmin)[0], \"from the earth TOWARDS the sun\" ,\"(found with the secant method)\")\n",
    "print(\"L2 is \", bisection(L1_eq, xmin, xmax)[0], \"from the earth AWAY from the sun\" ,\"(found with the bisectional method)\")\n",
    "print(\"L3 is \", falseposition(L3_eq, xmin, xmax), \"from the earth TOWARDS the sun\", \"(found with falseposition)\")\n",
    "\n",
    "print(\"Now, checking results with the scipy library: \")\n",
    "print(\"L1 is \", sci.optimize.newton(L1_eq, xmin))\n",
    "print(\"L2 is \", sci.optimize.newton(L2_eq, xmin))\n",
    "print(\"L3 is \", sci.optimize.newton(L3_eq, xmin))\n",
    "\n",
    "print(\"Now, visualizing...\")\n",
    "\n",
    "L1x = np.linspace(-5, 5, 100)\n",
    "pyl.plot(L1x, L1_eq(L1x))\n",
    "pyl.xlabel(\"x (AU)\")\n",
    "pyl.ylabel(\"f_net - a / (GM_tot)\")\n",
    "pyl.show()\n",
    "\n",
    "L2x = np.linspace(-5, 5, 100)\n",
    "pyl.plot(L2x, L2_eq(L2x))\n",
    "pyl.xlabel(\"x (AU)\")\n",
    "pyl.ylabel(\"f_net - a / (GM_tot)\")\n",
    "pyl.show()\n",
    "\n",
    "\n",
    "L3x = np.linspace(-5, 5, 100)\n",
    "pyl.plot(L3x, L3_eq(L3x))\n",
    "pyl.xlabel(\"x (AU)\")\n",
    "pyl.ylabel(\"f_net - a / (GM_tot)\")\n",
    "pyl.show()\n",
    "\n",
    "print(\"As we can see, our roots graphically work out and we can see a considerable force at those points\")"
   ]
  },
  {
   "cell_type": "markdown",
   "metadata": {},
   "source": [
    "## 3.2.2 L4 (and L5)\n",
    "\n",
    "### Exact or nearly-exact analytical solutions"
   ]
  },
  {
   "cell_type": "code",
   "execution_count": 18,
   "metadata": {},
   "outputs": [],
   "source": [
    "# Defining helpers and constants\n",
    "\n",
    "L4_guess = ( 1/2 , 3/4 ) # just an initial guesses from eyeballing our diagram\n",
    "L5_guess = ( 1/2 , -3/4 )\n",
    "\n",
    "def fx_sol(x,y):\n",
    "    return (x/((x + r_sun)**2 + y**2)**(3/2)) - x\n",
    "\n",
    "def fy_sol(x,y):\n",
    "    return (1/((x + r_sun)**2 + y**2)**(3/2)) - 1\n",
    "\n",
    "# just a wrapper for our fy_sol and fx_sol\n",
    "def f_(x, y):\n",
    "    return [fx_sol(x,y), fy_sol(x,y)]\n",
    "\n",
    "def Jacob(x, y, h):\n",
    "    return [[(f_(x + h, y)[0] - f_(x - h, y)[0])/(2*h), (f_(x, y + h)[0] - f_(x ,y - h)[0])/(2*h)],\n",
    "           [(f_(x + h, y)[1] - f_(x - h, y)[1])/(2*h), (f_(x, y + h)[1] - f_(x, y - h)[1])/(2*h)]]\n",
    "    \n",
    "def newRaph2D(f_, L):\n",
    "    # Set limits\n",
    "    accuracy = 1E-9\n",
    "    Nmax = 1000\n",
    "    h = 0.1\n",
    "    \n",
    "    # Initialize\n",
    "    x, y = L[0], L[1]\n",
    "    \n",
    "    # Normalize matrix\n",
    "    f = f_(x,y)\n",
    "    f_normal = np.linalg.norm(f)\n",
    "    \n",
    "    # Iterate\n",
    "    i = 0\n",
    "    delta = 0\n",
    "    \n",
    "    while abs(f_normal) > accuracy and i < Nmax:\n",
    "        # Increment\n",
    "        i += 1\n",
    "        \n",
    "        # Guess\n",
    "        J = Jacob(x,y,h)\n",
    "        delta = np.linalg.solve(J, f)\n",
    "        L -= delta\n",
    "        \n",
    "        x, y = L[0], L[1]\n",
    "        f = f_(x,y)\n",
    "        f_normal = np.linalg.norm(f)\n",
    "\n",
    "    return L, i, delta"
   ]
  },
  {
   "cell_type": "code",
   "execution_count": 19,
   "metadata": {},
   "outputs": [
    {
     "name": "stdout",
     "output_type": "stream",
     "text": [
      "L4 is located at  (0.499996997495189, 0.8660236702857428)\n",
      "L5 is located at  (0.499996997495189, -0.8660236702857428)\n"
     ]
    }
   ],
   "source": [
    "# 1. Find exact or nearly-exact analytical solutions. No Taylor expansions are required.\n",
    "# SEE ANALYTICAL WORK\n",
    "\n",
    "def L4_exact(r_s, r_e):\n",
    "    x = (r_e**2 - r_s**2)/2\n",
    "    y = np.sqrt((1-r_s)**2 - x**2)\n",
    "    return x,y\n",
    "\n",
    "def L5_exact(r_s, r_e):\n",
    "    x = (r_e**2 - r_s**2)/2\n",
    "    y = -1 * np.sqrt((1-r_s)**2 - x**2) # bc symmetric\n",
    "    return x,y\n",
    "\n",
    "\n",
    "print(\"L4 is located at \", L4_exact(r_sun, r_earth))\n",
    "print(\"L5 is located at \", L5_exact(r_sun, r_earth))"
   ]
  },
  {
   "cell_type": "markdown",
   "metadata": {},
   "source": [
    "### Numerically solve using Newton's Method for two variables"
   ]
  },
  {
   "cell_type": "code",
   "execution_count": 20,
   "metadata": {},
   "outputs": [
    {
     "name": "stdout",
     "output_type": "stream",
     "text": [
      "It makes sense why our point would be inbetween the earth \n",
      "L4 is located at  [0.5        0.86602367]\n",
      "L5 is located at  [0.5, -0.8660236701213924]\n",
      "Checking our work via scipy...\n",
      "L4 is located at  [0.5        0.86602367]\n",
      "L5 is located at  [ 0.5        -0.86602367]\n",
      "Visualization of our equations\n"
     ]
    },
    {
     "data": {
      "image/png": "[encoded data removed]",
      "text/plain": [
       "<Figure size 432x288 with 1 Axes>"
      ]
     },
     "metadata": {
      "needs_background": "light"
     },
     "output_type": "display_data"
    },
    {
     "name": "stdout",
     "output_type": "stream",
     "text": [
      "Notice very carefully in the (0,0) of our graph above (mind the offset, really 25, 25) that it is not uniform\n"
     ]
    },
    {
     "data": {
      "image/png": "[encoded data removed]",
      "text/plain": [
       "<Figure size 432x288 with 1 Axes>"
      ]
     },
     "metadata": {
      "needs_background": "light"
     },
     "output_type": "display_data"
    }
   ],
   "source": [
    "# 2. Numerically solve for the coordinates using Newton’s method for two variables.\n",
    "# SEE ANALYTICAL WORK\n",
    "\n",
    "xmin_, xmax_ = 0.5, 0.9 # for whatever reason, old xmin and xmax do not work\n",
    "res = newRaph2D(f_, [xmin_, xmax_])[0]\n",
    "\n",
    "\n",
    "print(\"It makes sense why our point would be inbetween the earth \")\n",
    "print(\"L4 is located at \", res)\n",
    "print(\"L5 is located at \", [res[0], -1 * res[1]]) # symmetric \n",
    "\n",
    "\n",
    "print(\"Checking our work via scipy...\")\n",
    "\n",
    "def eqs(vars):\n",
    "    x, y = vars\n",
    "    eq_1 = fx_sol(x,y)\n",
    "    eq_2 = fy_sol(x,y)\n",
    "    return [eq_1, eq_2]\n",
    "\n",
    "L4_check = fsolve(eqs, L4_guess)\n",
    "L5_check = fsolve(eqs, L5_guess)\n",
    "\n",
    "print(\"L4 is located at \", L4_check)\n",
    "print(\"L5 is located at \", L5_check)\n",
    "\n",
    "\n",
    "print(\"Visualization of our equations\")\n",
    "board_fx = np.zeros([50, 50], dtype = float)\n",
    "board_fy = np.zeros([50, 50], dtype = float)\n",
    "for i in range(50):\n",
    "    for j in range(50):\n",
    "        board_fx[i][j] = fx_sol(i - 25, j - 25)\n",
    "        board_fy[i][j] = fy_sol(i - 25, j - 25)\n",
    "        \n",
    "pyl.title(\"Visualization of our fx function\")\n",
    "pyl.xlabel(\"x - 25\")\n",
    "pyl.ylabel(\"y - 25\")\n",
    "pyl.imshow(board_fx, origin = (25, 25))\n",
    "pyl.show()\n",
    "\n",
    "print(\"Notice very carefully in the (0,0) of our graph above (mind the offset, really 25, 25) that it is not uniform\")\n",
    "\n",
    "pyl.title(\"Visualization of our fy function\")\n",
    "pyl.xlabel(\"x - 25\")\n",
    "pyl.ylabel(\"y - 25\")\n",
    "pyl.imshow(board_fy, origin = (25, 25))\n",
    "pyl.show()\n",
    " "
   ]
  },
  {
   "cell_type": "markdown",
   "metadata": {},
   "source": []
  },
  {
   "cell_type": "code",
   "execution_count": null,
   "metadata": {},
   "outputs": [],
   "source": []
  },
  {
   "cell_type": "code",
   "execution_count": null,
   "metadata": {},
   "outputs": [],
   "source": []
  },
  {
   "cell_type": "code",
   "execution_count": null,
   "metadata": {},
   "outputs": [],
   "source": []
  }
 ],
 "metadata": {
  "kernelspec": {
   "display_name": "Python 3",
   "language": "python",
   "name": "python3"
  },
  "language_info": {
   "codemirror_mode": {
    "name": "ipython",
    "version": 3
   },
   "file_extension": ".py",
   "mimetype": "text/x-python",
   "name": "python",
   "nbconvert_exporter": "python",
   "pygments_lexer": "ipython3",
   "version": "3.8.3"
  }
 },
 "nbformat": 4,
 "nbformat_minor": 4
}
